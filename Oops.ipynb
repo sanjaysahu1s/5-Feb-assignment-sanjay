{
 "cells": [
  {
   "cell_type": "markdown",
   "id": "dfff89bd-780e-464b-9191-e6046b906cbe",
   "metadata": {},
   "source": [
    "Q1. Explain Class and Object with respect to Object-Oriented Programming. Give a suitable example."
   ]
  },
  {
   "cell_type": "markdown",
   "id": "c31d2899-5346-45d6-89a3-af894b8fe4e1",
   "metadata": {},
   "source": [
    "In object-oriented programming, a class is a blueprint or template that defines the characteristics and behavior of an object. It defines a set of attributes (data) and methods (functions) that can be used to create objects of that class.\n",
    "\n",
    "An object, on the other hand, is an instance of a class. It is a real-world entity that has its own unique identity and behavior. When an object is created, it is based on the characteristics and behavior defined by the class."
   ]
  },
  {
   "cell_type": "code",
   "execution_count": 13,
   "id": "350f349f-5eae-42ee-9a99-553eaf4ae4f0",
   "metadata": {},
   "outputs": [
    {
     "name": "stdout",
     "output_type": "stream",
     "text": [
      "Make: Honda\n",
      "Model: Civic\n",
      "Year: 2020\n",
      "Starting the engine...\n",
      "Stopping the engine...\n"
     ]
    }
   ],
   "source": [
    "class Car:\n",
    "    def __init__(self, make, model, year):\n",
    "        self.make = make\n",
    "        self.model = model\n",
    "        self.year = year\n",
    "\n",
    "    def start(self):\n",
    "        print(\"Starting the engine...\")\n",
    "\n",
    "    def stop(self):\n",
    "        print(\"Stopping the engine...\")\n",
    "\n",
    "my_car = Car(\"Honda\", \"Civic\", 2020)\n",
    "\n",
    "print(\"Make:\", my_car.make)\n",
    "print(\"Model:\", my_car.model)\n",
    "print(\"Year:\", my_car.year)\n",
    "\n",
    "\n",
    "my_car.start()\n",
    "my_car.stop()\n"
   ]
  },
  {
   "cell_type": "markdown",
   "id": "93d3d6fa-cf2a-412d-9286-ccd7d36b560e",
   "metadata": {},
   "source": [
    "                  --------------------------------------------------------------"
   ]
  },
  {
   "cell_type": "markdown",
   "id": "363f8893-e6db-4a52-8b67-6d527bd7ab4f",
   "metadata": {},
   "source": [
    "Q2. Name the four pillars of OOPs.\n"
   ]
  },
  {
   "cell_type": "markdown",
   "id": "0ddf22f1-89fa-4cd8-873f-2f7574bb3e70",
   "metadata": {},
   "source": [
    "Four pillars of OOPs \n",
    "\n",
    "1) Encapsulation\n",
    "\n",
    "2) Abstraction\n",
    "\n",
    "3) Inheritance\n",
    "\n",
    "4) Polymorphism"
   ]
  },
  {
   "cell_type": "markdown",
   "id": "12ded1e0-50fa-4014-995c-f1c9a7037386",
   "metadata": {},
   "source": [
    "                              -----------------------------------------------"
   ]
  },
  {
   "cell_type": "raw",
   "id": "6d6da4c7-549a-41a3-a2ee-0057c79d2470",
   "metadata": {},
   "source": [
    "Q3. Explain why the __init__() function is used. Give a suitable example.\n"
   ]
  },
  {
   "cell_type": "markdown",
   "id": "3f61f5e0-400a-40ac-b6f2-35e3fe6f7e31",
   "metadata": {},
   "source": [
    "In object-oriented programming (OOP), the __init__() function is a special method that gets called when a new object of a class is created. It is used to initialize the object's attributes and set their initial values.\n",
    "\n",
    "The __init__() method is a constructor, which means that it is responsible for creating and initializing the object. It takes the self parameter, which refers to the object being created, as well as any other parameters needed to initialize the object's attributes."
   ]
  },
  {
   "cell_type": "code",
   "execution_count": 11,
   "id": "5b8a54bb-ea8e-4043-bf07-93a045c09fff",
   "metadata": {},
   "outputs": [
    {
     "name": "stdout",
     "output_type": "stream",
     "text": [
      "John\n",
      "30\n",
      "Jane\n",
      "25\n"
     ]
    }
   ],
   "source": [
    "class Person:\n",
    "    def __init__(self, name, age):\n",
    "        self.name = name\n",
    "        self.age = age\n",
    "\n",
    "person1 = Person(\"John\", 30)\n",
    "person2 = Person(\"Jane\", 25)\n",
    "\n",
    "print(person1.name) \n",
    "print(person1.age) \n",
    "\n",
    "print(person2.name) \n",
    "print(person2.age) \n"
   ]
  },
  {
   "cell_type": "markdown",
   "id": "66009c1c-6359-4575-beae-7ab40be70238",
   "metadata": {},
   "source": [
    "                               ---------------------------------------------------"
   ]
  },
  {
   "cell_type": "markdown",
   "id": "cceb3caa-ba98-4148-a911-15e902112ddb",
   "metadata": {},
   "source": [
    "Q4. Why self is used in OOPs?\n"
   ]
  },
  {
   "cell_type": "markdown",
   "id": "f512afa1-078f-4be7-b2da-92deac7edca2",
   "metadata": {},
   "source": [
    "The term \"self\" refers to a reference to the instance of a class that is currently being worked with.\n",
    "\n",
    "In OOP, everything is an object, and each object is an instance of a class. When you create a class, you define its attributes and methods. When you create an instance of that class, you are creating a specific object with its own set of attribute values and method behaviors."
   ]
  },
  {
   "cell_type": "markdown",
   "id": "9785a833-3e57-45aa-b69e-4bb96d965822",
   "metadata": {},
   "source": [
    "                         -------------------------------------------------------"
   ]
  },
  {
   "cell_type": "markdown",
   "id": "6e743a67-59ca-4f0d-a992-25f729377c37",
   "metadata": {},
   "source": [
    "Q5. What is inheritance? Give an example for each type of inheritance."
   ]
  },
  {
   "cell_type": "markdown",
   "id": "f1085a5e-5cc4-480b-8cf3-b7642c8aec20",
   "metadata": {},
   "source": [
    "Inheritance is a fundamental concept in object-oriented programming that allows a class to inherit the properties and behaviors of another class, known as the parent or base class. The class that inherits the properties and behaviors is called the child or derived class.\n",
    "\n",
    "There are four types of inheritance in OOP:\n",
    "\n",
    "1) Single Inheritance: In single inheritance, a child class inherits the properties and behaviors of a single parent class."
   ]
  },
  {
   "cell_type": "code",
   "execution_count": 1,
   "id": "089edd03-a1e2-4402-af82-95ae7f78508d",
   "metadata": {},
   "outputs": [
    {
     "name": "stdout",
     "output_type": "stream",
     "text": [
      "Buddy barks.\n"
     ]
    }
   ],
   "source": [
    "###Example###\n",
    "\n",
    "class Animal:\n",
    "    def __init__(self, name):\n",
    "        self.name = name\n",
    "\n",
    "    def speak(self):\n",
    "        print(self.name, \"makes a sound.\")\n",
    "\n",
    "class Dog(Animal):\n",
    "    def __init__(self, name):\n",
    "        super().__init__(name)\n",
    "\n",
    "    def speak(self):\n",
    "        print(self.name, \"barks.\")\n",
    "\n",
    "dog = Dog(\"Buddy\")\n",
    "dog.speak()\n"
   ]
  },
  {
   "cell_type": "markdown",
   "id": "239e12e7-a15e-4ce5-b420-62e9a6a10d14",
   "metadata": {},
   "source": [
    "2) Multiple Inheritance: In multiple inheritance, a child class inherits the properties and behaviors of multiple parent classes."
   ]
  },
  {
   "cell_type": "code",
   "execution_count": 3,
   "id": "8c52b15d-9484-4d92-9795-38800bc8dd69",
   "metadata": {},
   "outputs": [
    {
     "name": "stdout",
     "output_type": "stream",
     "text": [
      "Buddy makes a sound.\n",
      "Playing...\n"
     ]
    }
   ],
   "source": [
    "###Example###\n",
    "\n",
    "\n",
    "class Animal:\n",
    "    def __init__(self, name):\n",
    "        self.name = name\n",
    "\n",
    "    def speak(self):\n",
    "        print(self.name, \"makes a sound.\")\n",
    "\n",
    "class Pet:\n",
    "    def play(self):\n",
    "        print(\"Playing...\")\n",
    "\n",
    "class Dog(Animal, Pet):\n",
    "    def __init__(self, name):\n",
    "        super().__init__(name)\n",
    "\n",
    "dog = Dog(\"Buddy\")\n",
    "dog.speak()\n",
    "dog.play()\n"
   ]
  },
  {
   "cell_type": "markdown",
   "id": "aee04257-ca5a-4deb-91c1-7863fa5e2c89",
   "metadata": {},
   "source": [
    "3) Hierarchical Inheritance: In hierarchical inheritance, multiple child classes inherit from a single parent class."
   ]
  },
  {
   "cell_type": "code",
   "execution_count": 4,
   "id": "f8fad10d-cbbc-437f-9767-ee6a651b1a43",
   "metadata": {},
   "outputs": [
    {
     "name": "stdout",
     "output_type": "stream",
     "text": [
      "Buddy barks.\n",
      "Mittens meows.\n"
     ]
    }
   ],
   "source": [
    "###Example###\n",
    "\n",
    "\n",
    "class Animal:\n",
    "    def __init__(self, name):\n",
    "        self.name = name\n",
    "\n",
    "    def speak(self):\n",
    "        print(self.name, \"makes a sound.\")\n",
    "\n",
    "class Dog(Animal):\n",
    "    def __init__(self, name):\n",
    "        super().__init__(name)\n",
    "\n",
    "    def speak(self):\n",
    "        print(self.name, \"barks.\")\n",
    "\n",
    "class Cat(Animal):\n",
    "    def __init__(self, name):\n",
    "        super().__init__(name)\n",
    "\n",
    "    def speak(self):\n",
    "        print(self.name, \"meows.\")\n",
    "\n",
    "dog = Dog(\"Buddy\")\n",
    "dog.speak()\n",
    "\n",
    "cat = Cat(\"Mittens\")\n",
    "cat.speak()\n"
   ]
  },
  {
   "cell_type": "markdown",
   "id": "200e6f41-b4d0-42dc-95d0-344a89e61d85",
   "metadata": {},
   "source": [
    "4) Multi-level Inheritance: In multi-level inheritance, a child class inherits from a parent class, which in turn inherits from another parent class."
   ]
  },
  {
   "cell_type": "code",
   "execution_count": 7,
   "id": "b7c5d2e5-7b6a-4541-a9b3-c64cd3626873",
   "metadata": {},
   "outputs": [
    {
     "name": "stdout",
     "output_type": "stream",
     "text": [
      "Buddy barks.\n",
      "Playing...\n"
     ]
    }
   ],
   "source": [
    "class Animal:\n",
    "    def __init__(self, name):\n",
    "        self.name = name\n",
    "\n",
    "    def speak(self):\n",
    "        print(self.name, \"makes a sound.\")\n",
    "\n",
    "class Pet(Animal):\n",
    "    def play(self):\n",
    "        print(\"Playing...\")\n",
    "\n",
    "class Dog(Pet):\n",
    "    def __init__(self, name):\n",
    "        super().__init__(name)\n",
    "\n",
    "    def speak(self):\n",
    "        print(self.name, \"barks.\")\n",
    "\n",
    "dog = Dog(\"Buddy\")\n",
    "dog.speak()\n",
    "dog.play()\n"
   ]
  },
  {
   "cell_type": "markdown",
   "id": "dc2f2fa3-6adb-4ace-b1f1-ae9592934ada",
   "metadata": {},
   "source": [
    "                -----------------------------------------------------------"
   ]
  }
 ],
 "metadata": {
  "kernelspec": {
   "display_name": "Python 3 (ipykernel)",
   "language": "python",
   "name": "python3"
  },
  "language_info": {
   "codemirror_mode": {
    "name": "ipython",
    "version": 3
   },
   "file_extension": ".py",
   "mimetype": "text/x-python",
   "name": "python",
   "nbconvert_exporter": "python",
   "pygments_lexer": "ipython3",
   "version": "3.10.8"
  }
 },
 "nbformat": 4,
 "nbformat_minor": 5
}
